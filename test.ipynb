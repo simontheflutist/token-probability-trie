{
 "cells": [
  {
   "cell_type": "code",
   "execution_count": 1,
   "metadata": {},
   "outputs": [],
   "source": [
    "from collections import defaultdict"
   ]
  },
  {
   "cell_type": "code",
   "execution_count": 52,
   "metadata": {},
   "outputs": [],
   "source": [
    "import json"
   ]
  },
  {
   "cell_type": "code",
   "execution_count": 152,
   "metadata": {},
   "outputs": [],
   "source": [
    "def get_text():\n",
    "    with open('../fb-data-analysis/xroads.txt', 'r') as f:\n",
    "#     with open('../mc-shortener/eric.txt', 'r') as f:\n",
    "        return f.read()"
   ]
  },
  {
   "cell_type": "code",
   "execution_count": 153,
   "metadata": {},
   "outputs": [],
   "source": [
    "def from_text(text, n):\n",
    "    \"\"\"Create a probability trie structure from this text.\"\"\"\n",
    "    frequency_trie = _make_frequency_trie(text, n)\n",
    "    probability_trie = _from_frequency_trie(frequency_trie)\n",
    "    return probability_trie\n",
    "\n",
    "\n",
    "def _make_ngrams(text, n):\n",
    "    \"\"\"Return all n-grams of a specified length in a text.\"\"\"\n",
    "    for i in range(len(text) - n):\n",
    "        yield text[i:i + n]\n",
    "\n",
    "\n",
    "def _make_empty_trie(n, end_type=int):\n",
    "    \"\"\"Return a data structure such that after n-1 associative array\n",
    "    deferences, you get a defaultdict of type end_type\"\"\"\n",
    "    if n == 1:\n",
    "        return defaultdict(end_type)\n",
    "    if n > 1:\n",
    "        return defaultdict(partial(_make_empty_trie, n - 1, end_type))\n",
    "    raise ValueError\n",
    "\n",
    "\n",
    "def _update_trie(trie, key, func):\n",
    "    \"\"\"Apply func to the value of trie at key.\"\"\"\n",
    "    # if we have a defaultdict of a plain type\n",
    "    if len(key) == 1:\n",
    "        trie[key] = func(trie[key])\n",
    "        return\n",
    "    if len(key) > 1:\n",
    "        _update_trie(trie[key[0]], key[1:], func)\n",
    "        return\n",
    "    raise ValueError\n",
    "\n",
    "\n",
    "def _make_frequency_trie(text, n):\n",
    "    trie = _make_empty_trie(n, end_type=int)\n",
    "    for n_gram in _make_ngrams(text, n):\n",
    "        _update_trie(trie, n_gram, lambda i: i + 1)\n",
    "    return trie"
   ]
  },
  {
   "cell_type": "code",
   "execution_count": 154,
   "metadata": {},
   "outputs": [],
   "source": [
    "def _as_dict(trie):\n",
    "    \"\"\"Convert from nested defaultdict to nested dict.\"\"\"\n",
    "    if not isinstance(trie, defaultdict):\n",
    "        return trie\n",
    "    return {k: _as_dict(v) for k, v in trie.items()}"
   ]
  },
  {
   "cell_type": "code",
   "execution_count": 155,
   "metadata": {},
   "outputs": [],
   "source": [
    "trie = _make_frequency_trie(get_text(), 9)"
   ]
  },
  {
   "cell_type": "code",
   "execution_count": 156,
   "metadata": {},
   "outputs": [],
   "source": [
    "def _compress_trie(trie):\n",
    "    if not isinstance(trie, dict):\n",
    "        return trie\n",
    "    \n",
    "    compressed_trie = dict()\n",
    "    for key, value in trie.items():\n",
    "        value = _compress_trie(value)\n",
    "        if not isinstance(value, dict):\n",
    "            compressed_trie[key] = value\n",
    "            continue\n",
    "        if len(value) == 1:\n",
    "            subkey, subvalue = tuple(value.items())[0]\n",
    "            compressed_trie[key + subkey] = subvalue\n",
    "        else:\n",
    "            compressed_trie[key] = value\n",
    "    return compressed_trie"
   ]
  },
  {
   "cell_type": "code",
   "execution_count": 157,
   "metadata": {},
   "outputs": [],
   "source": [
    "compressed_trie = _compress_trie(trie)"
   ]
  },
  {
   "cell_type": "code",
   "execution_count": 158,
   "metadata": {},
   "outputs": [],
   "source": [
    "with open('/tmp/dump.json', 'w') as f:\n",
    "    json.dump(compressed_trie, f)"
   ]
  },
  {
   "cell_type": "code",
   "execution_count": null,
   "metadata": {},
   "outputs": [],
   "source": []
  }
 ],
 "metadata": {
  "kernelspec": {
   "display_name": "Python 3",
   "language": "python",
   "name": "python3"
  },
  "language_info": {
   "codemirror_mode": {
    "name": "ipython",
    "version": 3
   },
   "file_extension": ".py",
   "mimetype": "text/x-python",
   "name": "python",
   "nbconvert_exporter": "python",
   "pygments_lexer": "ipython3",
   "version": "3.7.3"
  }
 },
 "nbformat": 4,
 "nbformat_minor": 2
}
